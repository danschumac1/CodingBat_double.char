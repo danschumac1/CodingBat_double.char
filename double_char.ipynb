{
 "cells": [
  {
   "cell_type": "markdown",
   "id": "61856cad",
   "metadata": {},
   "source": [
    "# String-2 > double_char"
   ]
  },
  {
   "cell_type": "markdown",
   "id": "4237e46e",
   "metadata": {},
   "source": [
    "Given a string, return a string where for every char in the original, there are two chars.\n",
    "\n",
    "\n",
    "double_char('The') → 'TThhee'\n",
    "\n",
    "double_char('AAbb') → 'AAAAbbbb'\n",
    "\n",
    "double_char('Hi-There') → 'HHii--TThheerree'"
   ]
  },
  {
   "cell_type": "code",
   "execution_count": 1,
   "id": "a596f7d6",
   "metadata": {},
   "outputs": [],
   "source": [
    "def double_char(str):\n",
    "  new_str = ''\n",
    "  for char in str:\n",
    "    new_str += (char*2)\n",
    "  return new_str"
   ]
  }
 ],
 "metadata": {
  "kernelspec": {
   "display_name": "Python 3 (ipykernel)",
   "language": "python",
   "name": "python3"
  },
  "language_info": {
   "codemirror_mode": {
    "name": "ipython",
    "version": 3
   },
   "file_extension": ".py",
   "mimetype": "text/x-python",
   "name": "python",
   "nbconvert_exporter": "python",
   "pygments_lexer": "ipython3",
   "version": "3.9.12"
  }
 },
 "nbformat": 4,
 "nbformat_minor": 5
}
